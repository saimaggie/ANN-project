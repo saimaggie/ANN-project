{
 "cells": [
  {
   "cell_type": "code",
   "execution_count": 1,
   "id": "7e5d2e15",
   "metadata": {},
   "outputs": [
    {
     "data": {
      "text/plain": [
       "LinearRegression()"
      ]
     },
     "execution_count": 1,
     "metadata": {},
     "output_type": "execute_result"
    }
   ],
   "source": [
    "import numpy as np\n",
    "import matplotlib.pyplot as plt\n",
    "import pandas as pd\n",
    "from sklearn.metrics import r2_score\n",
    "\n",
    "df= pd.read_excel('Ann_newly_updated.xlsx')\n",
    "\n",
    "X = df[[\"Area in sqm\"]]\n",
    "y=df[\"Cost of the structure\"]\n",
    "\n",
    "from sklearn.model_selection import train_test_split\n",
    "X_train,X_test,y_train,y_test=train_test_split(X,y,test_size=0.20,random_state=0)\n",
    "\n",
    "from sklearn.linear_model import LinearRegression\n",
    "lin_reg = LinearRegression()\n",
    "lin_reg.fit(X_train, y_train)"
   ]
  },
  {
   "cell_type": "code",
   "execution_count": 2,
   "id": "531a112d",
   "metadata": {},
   "outputs": [
    {
     "data": {
      "text/html": [
       "<div>\n",
       "<style scoped>\n",
       "    .dataframe tbody tr th:only-of-type {\n",
       "        vertical-align: middle;\n",
       "    }\n",
       "\n",
       "    .dataframe tbody tr th {\n",
       "        vertical-align: top;\n",
       "    }\n",
       "\n",
       "    .dataframe thead th {\n",
       "        text-align: right;\n",
       "    }\n",
       "</style>\n",
       "<table border=\"1\" class=\"dataframe\">\n",
       "  <thead>\n",
       "    <tr style=\"text-align: right;\">\n",
       "      <th></th>\n",
       "      <th>Area in sqm</th>\n",
       "      <th>Cost of the structure</th>\n",
       "    </tr>\n",
       "  </thead>\n",
       "  <tbody>\n",
       "    <tr>\n",
       "      <th>0</th>\n",
       "      <td>786.00</td>\n",
       "      <td>12625719</td>\n",
       "    </tr>\n",
       "    <tr>\n",
       "      <th>1</th>\n",
       "      <td>5443.52</td>\n",
       "      <td>73487520</td>\n",
       "    </tr>\n",
       "    <tr>\n",
       "      <th>2</th>\n",
       "      <td>7350.67</td>\n",
       "      <td>95558710</td>\n",
       "    </tr>\n",
       "    <tr>\n",
       "      <th>3</th>\n",
       "      <td>1288.89</td>\n",
       "      <td>18044460</td>\n",
       "    </tr>\n",
       "    <tr>\n",
       "      <th>4</th>\n",
       "      <td>1476.67</td>\n",
       "      <td>20547380</td>\n",
       "    </tr>\n",
       "    <tr>\n",
       "      <th>5</th>\n",
       "      <td>2088.00</td>\n",
       "      <td>28188000</td>\n",
       "    </tr>\n",
       "    <tr>\n",
       "      <th>6</th>\n",
       "      <td>3143.00</td>\n",
       "      <td>42430500</td>\n",
       "    </tr>\n",
       "    <tr>\n",
       "      <th>7</th>\n",
       "      <td>656.00</td>\n",
       "      <td>9184000</td>\n",
       "    </tr>\n",
       "    <tr>\n",
       "      <th>8</th>\n",
       "      <td>1020.00</td>\n",
       "      <td>14280000</td>\n",
       "    </tr>\n",
       "    <tr>\n",
       "      <th>9</th>\n",
       "      <td>1176.00</td>\n",
       "      <td>16464000</td>\n",
       "    </tr>\n",
       "    <tr>\n",
       "      <th>10</th>\n",
       "      <td>1667.67</td>\n",
       "      <td>21679710</td>\n",
       "    </tr>\n",
       "    <tr>\n",
       "      <th>11</th>\n",
       "      <td>2566.00</td>\n",
       "      <td>34641000</td>\n",
       "    </tr>\n",
       "    <tr>\n",
       "      <th>12</th>\n",
       "      <td>9000.00</td>\n",
       "      <td>117000000</td>\n",
       "    </tr>\n",
       "    <tr>\n",
       "      <th>13</th>\n",
       "      <td>7500.00</td>\n",
       "      <td>97500000</td>\n",
       "    </tr>\n",
       "    <tr>\n",
       "      <th>14</th>\n",
       "      <td>10000.00</td>\n",
       "      <td>130000000</td>\n",
       "    </tr>\n",
       "    <tr>\n",
       "      <th>15</th>\n",
       "      <td>3750.00</td>\n",
       "      <td>50625000</td>\n",
       "    </tr>\n",
       "    <tr>\n",
       "      <th>16</th>\n",
       "      <td>69.00</td>\n",
       "      <td>966000</td>\n",
       "    </tr>\n",
       "    <tr>\n",
       "      <th>17</th>\n",
       "      <td>765.00</td>\n",
       "      <td>10710000</td>\n",
       "    </tr>\n",
       "    <tr>\n",
       "      <th>18</th>\n",
       "      <td>180.00</td>\n",
       "      <td>2520000</td>\n",
       "    </tr>\n",
       "    <tr>\n",
       "      <th>19</th>\n",
       "      <td>165.00</td>\n",
       "      <td>2310000</td>\n",
       "    </tr>\n",
       "    <tr>\n",
       "      <th>20</th>\n",
       "      <td>662.40</td>\n",
       "      <td>11065897</td>\n",
       "    </tr>\n",
       "    <tr>\n",
       "      <th>21</th>\n",
       "      <td>3541.00</td>\n",
       "      <td>47803500</td>\n",
       "    </tr>\n",
       "    <tr>\n",
       "      <th>22</th>\n",
       "      <td>10522.00</td>\n",
       "      <td>136786000</td>\n",
       "    </tr>\n",
       "    <tr>\n",
       "      <th>23</th>\n",
       "      <td>6382.00</td>\n",
       "      <td>86157000</td>\n",
       "    </tr>\n",
       "    <tr>\n",
       "      <th>24</th>\n",
       "      <td>9235.00</td>\n",
       "      <td>120055000</td>\n",
       "    </tr>\n",
       "    <tr>\n",
       "      <th>25</th>\n",
       "      <td>83612.00</td>\n",
       "      <td>1086956000</td>\n",
       "    </tr>\n",
       "  </tbody>\n",
       "</table>\n",
       "</div>"
      ],
      "text/plain": [
       "    Area in sqm  Cost of the structure\n",
       "0        786.00               12625719\n",
       "1       5443.52               73487520\n",
       "2       7350.67               95558710\n",
       "3       1288.89               18044460\n",
       "4       1476.67               20547380\n",
       "5       2088.00               28188000\n",
       "6       3143.00               42430500\n",
       "7        656.00                9184000\n",
       "8       1020.00               14280000\n",
       "9       1176.00               16464000\n",
       "10      1667.67               21679710\n",
       "11      2566.00               34641000\n",
       "12      9000.00              117000000\n",
       "13      7500.00               97500000\n",
       "14     10000.00              130000000\n",
       "15      3750.00               50625000\n",
       "16        69.00                 966000\n",
       "17       765.00               10710000\n",
       "18       180.00                2520000\n",
       "19       165.00                2310000\n",
       "20       662.40               11065897\n",
       "21      3541.00               47803500\n",
       "22     10522.00              136786000\n",
       "23      6382.00               86157000\n",
       "24      9235.00              120055000\n",
       "25     83612.00             1086956000"
      ]
     },
     "execution_count": 2,
     "metadata": {},
     "output_type": "execute_result"
    }
   ],
   "source": [
    "df"
   ]
  },
  {
   "cell_type": "code",
   "execution_count": 3,
   "id": "16334262",
   "metadata": {},
   "outputs": [
    {
     "data": {
      "text/plain": [
       "<matplotlib.collections.PathCollection at 0x2117b528910>"
      ]
     },
     "execution_count": 3,
     "metadata": {},
     "output_type": "execute_result"
    },
    {
     "data": {
      "image/png": "[encoded data removed]",
      "text/plain": [
       "<Figure size 432x288 with 1 Axes>"
      ]
     },
     "metadata": {
      "needs_background": "light"
     },
     "output_type": "display_data"
    }
   ],
   "source": [
    "plt.scatter(X,y)"
   ]
  },
  {
   "cell_type": "code",
   "execution_count": 4,
   "id": "ef81c8ed",
   "metadata": {},
   "outputs": [
    {
     "name": "stdout",
     "output_type": "stream",
     "text": [
      "[9.65332747e+07 9.67540744e+06 1.30939056e+08 1.10078323e+07\n",
      " 2.81891002e+07 3.43966935e+07]\n",
      "0.9996800017095806\n"
     ]
    }
   ],
   "source": [
    "y_pred = lin_reg.predict(X_test)\n",
    "print(y_pred)\n",
    "\n",
    "\n",
    "print(r2_score(y_test, y_pred))\n"
   ]
  },
  {
   "cell_type": "code",
   "execution_count": 5,
   "id": "a247fdb0",
   "metadata": {},
   "outputs": [
    {
     "name": "stdout",
     "output_type": "stream",
     "text": [
      "Variance score: 0.9996800017095806\n"
     ]
    }
   ],
   "source": [
    "print('Variance score: {}'.format(lin_reg.score(X_test, y_test)))"
   ]
  },
  {
   "cell_type": "code",
   "execution_count": 6,
   "id": "d254774a",
   "metadata": {},
   "outputs": [
    {
     "name": "stdout",
     "output_type": "stream",
     "text": [
      "[11280550.82850098]\n",
      "[12986.59702492]\n"
     ]
    }
   ],
   "source": [
    "print(lin_reg.predict([[786]]))\n",
    "print(lin_reg.coef_)"
   ]
  },
  {
   "cell_type": "code",
   "execution_count": 7,
   "id": "ed1e4fba",
   "metadata": {},
   "outputs": [
    {
     "data": {
      "text/plain": [
       "<matplotlib.collections.PathCollection at 0x2117b611910>"
      ]
     },
     "execution_count": 7,
     "metadata": {},
     "output_type": "execute_result"
    },
    {
     "data": {
      "image/png": "[encoded data removed]",
      "text/plain": [
       "<Figure size 432x288 with 1 Axes>"
      ]
     },
     "metadata": {
      "needs_background": "light"
     },
     "output_type": "display_data"
    }
   ],
   "source": [
    "plt.scatter(y_test,y_pred)"
   ]
  },
  {
   "cell_type": "code",
   "execution_count": 8,
   "id": "02f05991",
   "metadata": {},
   "outputs": [],
   "source": [
    "#Multi Linear Regression"
   ]
  },
  {
   "cell_type": "code",
   "execution_count": 9,
   "id": "aa434c23",
   "metadata": {},
   "outputs": [
    {
     "data": {
      "text/plain": [
       "LinearRegression()"
      ]
     },
     "execution_count": 9,
     "metadata": {},
     "output_type": "execute_result"
    }
   ],
   "source": [
    "\n",
    "import numpy as np\n",
    "import matplotlib.pyplot as plt\n",
    "import pandas as pd\n",
    "from sklearn.metrics import mean_squared_error, r2_score\n",
    "\n",
    "df= pd.read_excel('ann newly updated 1.xlsx')\n",
    "X = df.iloc[:, :-1].values\n",
    "y = df.iloc[:, -1].values\n",
    "\n",
    "from sklearn.model_selection import train_test_split\n",
    "X_train,X_test,y_train,y_test=train_test_split(X,y,test_size=0.2,random_state=0)\n",
    "\n",
    "from sklearn.linear_model import LinearRegression\n",
    "regressor = LinearRegression(fit_intercept=True)\n",
    "regressor.fit(X_train, y_train)"
   ]
  },
  {
   "cell_type": "code",
   "execution_count": 10,
   "id": "df0a87e4",
   "metadata": {},
   "outputs": [
    {
     "data": {
      "text/plain": [
       "array([[7.86000000e+02, 4.42976000e+05, 4.07855000e+05, 3.00622840e+05,\n",
       "        7.76488800e+06, 5.04717720e+11],\n",
       "       [5.44352000e+03, 7.47441000e+05, 5.00237100e+06, 4.87776100e+06,\n",
       "        2.37170110e+07, 1.54160572e+12],\n",
       "       [7.35067000e+03, 5.33333000e+05, 8.56788000e+05, 8.33221500e+06,\n",
       "        3.02405450e+07, 1.96563542e+12],\n",
       "       [1.28889000e+03, 3.56565000e+05, 1.89160000e+05, 3.13113600e+06,\n",
       "        5.77752400e+06, 3.75539060e+11],\n",
       "       [1.47667000e+03, 3.10826000e+05, 3.67724000e+05, 3.00299000e+06,\n",
       "        7.01829100e+06, 4.56188915e+11],\n",
       "       [2.08800000e+03, 8.16554000e+05, 8.73452000e+05, 4.60871800e+06,\n",
       "        1.07182910e+07, 6.96688915e+11],\n",
       "       [3.14300000e+03, 5.56000000e+05, 5.12122000e+05, 4.02458400e+06,\n",
       "        1.82123330e+07, 1.18380164e+12],\n",
       "       [6.56000000e+02, 1.23000000e+05, 1.12000000e+05, 1.53162000e+05,\n",
       "        4.78065100e+06, 3.10742315e+11],\n",
       "       [1.02000000e+03, 3.92000000e+05, 2.24000000e+05, 9.18972000e+05,\n",
       "        6.33756000e+06, 4.11941400e+11],\n",
       "       [1.17600000e+03, 3.17143000e+05, 1.23232000e+05, 8.04060000e+05,\n",
       "        7.28886700e+06, 4.73776355e+11],\n",
       "       [1.66767000e+03, 4.52323000e+05, 3.55433000e+05, 1.01535500e+06,\n",
       "        9.99015200e+06, 6.49359880e+11],\n",
       "       [2.56600000e+03, 3.28484000e+05, 5.15789000e+05, 4.69019500e+06,\n",
       "        1.45155340e+07, 9.43509710e+11],\n",
       "       [9.00000000e+03, 2.08257800e+06, 2.08357800e+06, 7.55070000e+06,\n",
       "        6.65750000e+07, 4.32737500e+12],\n",
       "       [7.50000000e+03, 9.56564000e+05, 8.32235000e+05, 4.80127800e+06,\n",
       "        4.67792280e+07, 3.04064982e+12],\n",
       "       [1.00000000e+04, 9.12323000e+05, 8.12526000e+05, 4.56814000e+06,\n",
       "        7.60589150e+07, 4.94382948e+12],\n",
       "       [3.75000000e+03, 5.28282000e+05, 5.16216000e+05, 4.33327600e+06,\n",
       "        2.95435610e+07, 1.92033146e+12],\n",
       "       [6.90000000e+01, 9.71800000e+03, 8.00500000e+03, 1.73383600e+06,\n",
       "        3.48881000e+05, 2.26772650e+10],\n",
       "       [7.65000000e+02, 1.17690000e+04, 6.41170000e+04, 2.58292000e+05,\n",
       "        5.59669000e+06, 3.63784850e+11],\n",
       "       [1.80000000e+02, 3.30200000e+03, 2.18400000e+04, 1.04641000e+05,\n",
       "        1.50737900e+06, 9.79796350e+10],\n",
       "       [1.65000000e+02, 2.10100000e+03, 1.44900000e+04, 7.58650000e+04,\n",
       "        1.43377100e+06, 9.31951150e+10],\n",
       "       [6.62400000e+02, 8.89600000e+03, 2.77520000e+04, 2.70137000e+05,\n",
       "        6.02124500e+06, 3.91380925e+11],\n",
       "       [3.54100000e+03, 1.68640000e+05, 1.11541500e+06, 2.45355000e+05,\n",
       "        2.81257500e+07, 1.82817375e+12],\n",
       "       [1.05220000e+04, 8.62331000e+05, 2.89652000e+06, 4.55540700e+06,\n",
       "        5.97274010e+07, 3.88228106e+12],\n",
       "       [6.38200000e+03, 7.59860000e+04, 5.02583000e+05, 5.77433000e+06,\n",
       "        4.57543300e+07, 2.97403145e+12],\n",
       "       [9.23500000e+03, 3.19908000e+05, 5.75541600e+06, 7.12336900e+06,\n",
       "        4.88768750e+07, 3.17699688e+12],\n",
       "       [8.36120000e+04, 1.17750000e+06, 1.50327500e+07, 1.50334200e+07,\n",
       "        2.88321326e+08, 1.46165000e+08]])"
      ]
     },
     "execution_count": 10,
     "metadata": {},
     "output_type": "execute_result"
    }
   ],
   "source": [
    "y_pred = regressor.predict(X_test)\n",
    "X"
   ]
  },
  {
   "cell_type": "code",
   "execution_count": null,
   "id": "a6832233",
   "metadata": {},
   "outputs": [],
   "source": []
  },
  {
   "cell_type": "code",
   "execution_count": 11,
   "id": "9e010214",
   "metadata": {},
   "outputs": [
    {
     "name": "stdout",
     "output_type": "stream",
     "text": [
      "0.9997680155492599\n",
      "Variance score: 0.9997680155492599\n"
     ]
    }
   ],
   "source": [
    "from sklearn.metrics import r2_score\n",
    "\n",
    "print(r2_score(y_test, y_pred))\n",
    "\n",
    "print('Variance score: {}'.format(regressor.score(X_test, y_test)))"
   ]
  },
  {
   "cell_type": "code",
   "execution_count": 14,
   "id": "1dd7d662",
   "metadata": {},
   "outputs": [
    {
     "name": "stdout",
     "output_type": "stream",
     "text": [
      "[71779580.59118307]\n"
     ]
    }
   ],
   "source": [
    "print(regressor.predict([[5.44352000e+03, 7.47441000e+05, 5.00237100e+06, 4.87776100e+06,\n",
    "        2.37170110e+07, 1.54160572e+12]]))\n"
   ]
  },
  {
   "cell_type": "code",
   "execution_count": 13,
   "id": "012e03d9",
   "metadata": {},
   "outputs": [
    {
     "data": {
      "text/plain": [
       "[<matplotlib.lines.Line2D at 0x2117b645af0>]"
      ]
     },
     "execution_count": 13,
     "metadata": {},
     "output_type": "execute_result"
    },
    {
     "data": {
      "image/png": "[encoded data removed]",
      "text/plain": [
       "<Figure size 432x288 with 1 Axes>"
      ]
     },
     "metadata": {
      "needs_background": "light"
     },
     "output_type": "display_data"
    }
   ],
   "source": [
    "plt.scatter(y_test,y_pred)\n",
    "plt.plot(y_test,y_pred)"
   ]
  },
  {
   "cell_type": "code",
   "execution_count": null,
   "id": "f5e65a4b",
   "metadata": {},
   "outputs": [],
   "source": []
  },
  {
   "cell_type": "code",
   "execution_count": null,
   "id": "a6b702a6",
   "metadata": {},
   "outputs": [],
   "source": []
  },
  {
   "cell_type": "code",
   "execution_count": null,
   "id": "b21e7359",
   "metadata": {},
   "outputs": [],
   "source": []
  }
 ],
 "metadata": {
  "kernelspec": {
   "display_name": "Python 3",
   "language": "python",
   "name": "python3"
  },
  "language_info": {
   "codemirror_mode": {
    "name": "ipython",
    "version": 3
   },
   "file_extension": ".py",
   "mimetype": "text/x-python",
   "name": "python",
   "nbconvert_exporter": "python",
   "pygments_lexer": "ipython3",
   "version": "3.8.8"
  }
 },
 "nbformat": 4,
 "nbformat_minor": 5
}
